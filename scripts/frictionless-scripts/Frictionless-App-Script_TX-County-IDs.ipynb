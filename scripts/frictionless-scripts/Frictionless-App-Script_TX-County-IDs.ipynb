{
 "cells": [
  {
   "cell_type": "code",
   "execution_count": null,
   "metadata": {},
   "outputs": [],
   "source": [
    "#Application of frictionless principles to the 'Texas_NewspaperTitleList_final' \n",
    "#output is JSON file describing the Newspaper List csv file\n",
    "\n",
    "#Please download frictionless at frictionlessdata.io/software/#software-toolkit"
   ]
  },
  {
   "cell_type": "code",
   "execution_count": 10,
   "metadata": {},
   "outputs": [],
   "source": [
    "#import frictionless packages\n",
    "import frictionless\n",
    "from frictionless import describe\n",
    "\n",
    "import pprint\n",
    "pp = pprint.PrettyPrinter(depth=4)"
   ]
  },
  {
   "cell_type": "code",
   "execution_count": 12,
   "metadata": {},
   "outputs": [
    {
     "name": "stdout",
     "output_type": "stream",
     "text": [
      "{'encoding': 'utf-8',\n",
      " 'format': 'csv',\n",
      " 'hashing': 'md5',\n",
      " 'name': 'tx-county_identifiers',\n",
      " 'path': 'https://raw.githubusercontent.com/unt-libraries/portal-leading/main/data/TX-County_Identifier/TX-County_Identifiers.csv',\n",
      " 'profile': 'tabular-data-resource',\n",
      " 'schema': {'fields': [{'name': 'County Name', 'type': 'string'},\n",
      "                       {'name': 'FIPS Code - State', 'type': 'integer'},\n",
      "                       {'name': 'FIPS Code - County', 'type': 'integer'},\n",
      "                       {'name': 'geonames ID', 'type': 'integer'},\n",
      "                       {'name': 'wikidata ID', 'type': 'string'},\n",
      "                       {'name': 'UNTL County String', 'type': 'string'},\n",
      "                       {'name': 'UNTL Place Name String', 'type': 'string'}]},\n",
      " 'scheme': 'https'}\n"
     ]
    }
   ],
   "source": [
    "#'describe' datasets and print\n",
    "TX_CountyIDs = describe('https://raw.githubusercontent.com/unt-libraries/portal-leading/main/data/TX-County_Identifier/TX-County_Identifiers.csv')\n",
    "\n",
    "pp.pprint(TX_CountyIDs)"
   ]
  },
  {
   "cell_type": "code",
   "execution_count": 13,
   "metadata": {},
   "outputs": [
    {
     "name": "stdout",
     "output_type": "stream",
     "text": [
      "{'encoding': 'utf-8',\n",
      " 'format': 'csv',\n",
      " 'hashing': 'md5',\n",
      " 'name': 'tx-county_identifiers',\n",
      " 'path': 'https://raw.githubusercontent.com/unt-libraries/portal-leading/main/data/TX-County_Identifier/TX-County_Identifiers.csv',\n",
      " 'profile': 'tabular-data-resource',\n",
      " 'schema': {'fields': [{'description': 'Name of all Counties in Texas, n=254',\n",
      "                        'name': 'County Name',\n",
      "                        'title': 'County Name',\n",
      "                        'type': 'string'},\n",
      "                       {'description': 'Federal Information Processing '\n",
      "                                       'Statndards (FIPS) code for the State '\n",
      "                                       'of Texas',\n",
      "                        'name': 'FIPS Code - State',\n",
      "                        'title': 'FIPS Code - State',\n",
      "                        'type': 'integer'},\n",
      "                       {'description': 'Federal Information Processing '\n",
      "                                       'Statndards (FIPS) code for Texas '\n",
      "                                       'Counties',\n",
      "                        'name': 'FIPS Code - County',\n",
      "                        'title': 'FIPS Code - County',\n",
      "                        'type': 'integer'},\n",
      "                       {'description': 'Geonames Identifier as documented by '\n",
      "                                       'https://www.geonames.org/',\n",
      "                        'name': 'geonames ID',\n",
      "                        'title': 'geonames ID',\n",
      "                        'type': 'integer'},\n",
      "                       {'description': 'Wikidata Identifier as documented by '\n",
      "                                       'https://www.wikidata.org/Wikidata:Identifiers',\n",
      "                        'name': 'wikidata ID',\n",
      "                        'title': 'wikidata ID',\n",
      "                        'type': 'string'},\n",
      "                       {'description': 'University of North Texas Library '\n",
      "                                       '(UNTL) County String Identifier, '\n",
      "                                       \"formatted as '[County Name], TX'\",\n",
      "                        'name': 'UNTL County String',\n",
      "                        'title': 'UNTL County String',\n",
      "                        'type': 'string'},\n",
      "                       {'description': 'University of North Texas Library '\n",
      "                                       '(UNTL) Place Name String Identifier, '\n",
      "                                       \"formatted as 'United States - Texas - \"\n",
      "                                       \"[County Name]'\",\n",
      "                        'name': 'UNTL Place Name String',\n",
      "                        'title': 'UNTL Place Name String',\n",
      "                        'type': 'string'}]},\n",
      " 'scheme': 'https'}\n"
     ]
    }
   ],
   "source": [
    "#applying more detail to each column\n",
    "TX_CountyIDs.schema.get_field(\"County Name\").title = \"County Name\"\n",
    "TX_CountyIDs.schema.get_field(\"County Name\").description = \"Name of all Counties in Texas, n=254\"\n",
    "\n",
    "TX_CountyIDs.schema.get_field(\"FIPS Code - State\").title = \"FIPS Code - State\"\n",
    "TX_CountyIDs.schema.get_field(\"FIPS Code - State\").description = \"Federal Information Processing Statndards (FIPS) code for the State of Texas\"\n",
    "\n",
    "TX_CountyIDs.schema.get_field(\"FIPS Code - County\").title = \"FIPS Code - County\"\n",
    "TX_CountyIDs.schema.get_field(\"FIPS Code - County\").description = \"Federal Information Processing Statndards (FIPS) code for Texas Counties\"\n",
    "\n",
    "TX_CountyIDs.schema.get_field(\"geonames ID\").title = \"geonames ID\"\n",
    "TX_CountyIDs.schema.get_field(\"geonames ID\").description = \"Geonames Identifier as documented by https://www.geonames.org/\"\n",
    "\n",
    "TX_CountyIDs.schema.get_field(\"wikidata ID\").title = \"wikidata ID\"\n",
    "TX_CountyIDs.schema.get_field(\"wikidata ID\").description = \"Wikidata Identifier as documented by https://www.wikidata.org/Wikidata:Identifiers\"\n",
    "\n",
    "TX_CountyIDs.schema.get_field(\"UNTL County String\").title = \"UNTL County String\"\n",
    "TX_CountyIDs.schema.get_field(\"UNTL County String\").description = \"University of North Texas Library (UNTL) County String Identifier, formatted as '[County Name], TX'\"\n",
    "\n",
    "TX_CountyIDs.schema.get_field(\"UNTL Place Name String\").title = \"UNTL Place Name String\"\n",
    "TX_CountyIDs.schema.get_field(\"UNTL Place Name String\").description = \"University of North Texas Library (UNTL) Place Name String Identifier, formatted as 'United States - Texas - [County Name]'\"\n",
    "\n",
    "pp.pprint(TX_CountyIDs)"
   ]
  },
  {
   "cell_type": "code",
   "execution_count": 14,
   "metadata": {},
   "outputs": [
    {
     "name": "stdout",
     "output_type": "stream",
     "text": [
      "{'encoding': 'utf-8',\n",
      " 'format': 'csv',\n",
      " 'hashing': 'md5',\n",
      " 'name': 'tx-county_identifiers',\n",
      " 'path': 'https://raw.githubusercontent.com/unt-libraries/portal-leading/main/data/TX-County_Identifier/TX-County_Identifiers.csv',\n",
      " 'profile': 'tabular-data-resource',\n",
      " 'schema': {'fields': [{'description': 'Name of all Counties in Texas, n=254',\n",
      "                        'name': 'County Name',\n",
      "                        'title': 'County Name',\n",
      "                        'type': 'string'},\n",
      "                       {'constraints': {...},\n",
      "                        'description': 'Federal Information Processing '\n",
      "                                       'Statndards (FIPS) code for the State '\n",
      "                                       'of Texas',\n",
      "                        'name': 'FIPS Code - State',\n",
      "                        'title': 'FIPS Code - State',\n",
      "                        'type': 'integer'},\n",
      "                       {'description': 'Federal Information Processing '\n",
      "                                       'Statndards (FIPS) code for Texas '\n",
      "                                       'Counties',\n",
      "                        'name': 'FIPS Code - County',\n",
      "                        'title': 'FIPS Code - County',\n",
      "                        'type': 'integer'},\n",
      "                       {'description': 'Geonames Identifier as documented by '\n",
      "                                       'https://www.geonames.org/',\n",
      "                        'name': 'geonames ID',\n",
      "                        'title': 'geonames ID',\n",
      "                        'type': 'integer'},\n",
      "                       {'description': 'Wikidata Identifier as documented by '\n",
      "                                       'https://www.wikidata.org/Wikidata:Identifiers',\n",
      "                        'name': 'wikidata ID',\n",
      "                        'title': 'wikidata ID',\n",
      "                        'type': 'string'},\n",
      "                       {'description': 'University of North Texas Library '\n",
      "                                       '(UNTL) County String Identifier, '\n",
      "                                       \"formatted as '[County Name], TX'\",\n",
      "                        'name': 'UNTL County String',\n",
      "                        'title': 'UNTL County String',\n",
      "                        'type': 'string'},\n",
      "                       {'description': 'University of North Texas Library '\n",
      "                                       '(UNTL) Place Name String Identifier, '\n",
      "                                       \"formatted as 'United States - Texas - \"\n",
      "                                       \"[County Name]'\",\n",
      "                        'name': 'UNTL Place Name String',\n",
      "                        'title': 'UNTL Place Name String',\n",
      "                        'type': 'string'}]},\n",
      " 'scheme': 'https'}\n"
     ]
    }
   ],
   "source": [
    "#apply constraint field descriptors to the tables\n",
    "TX_CountyIDs.schema.get_field(\"FIPS Code - State\").constraints[\"enum\"] = ['48']\n",
    "\n",
    "pp.pprint(TX_CountyIDs)"
   ]
  },
  {
   "cell_type": "code",
   "execution_count": 15,
   "metadata": {},
   "outputs": [
    {
     "name": "stdout",
     "output_type": "stream",
     "text": [
      "{'encoding': 'utf-8',\n",
      " 'format': 'csv',\n",
      " 'hashing': 'md5',\n",
      " 'name': 'tx-county_identifiers',\n",
      " 'path': 'https://raw.githubusercontent.com/unt-libraries/portal-leading/main/data/TX-County_Identifier/TX-County_Identifiers.csv',\n",
      " 'profile': 'tabular-data-resource',\n",
      " 'schema': {'fields': [{'description': 'Name of all Counties in Texas, n=254',\n",
      "                        'name': 'County Name',\n",
      "                        'title': 'County Name',\n",
      "                        'type': 'string'},\n",
      "                       {'constraints': {...},\n",
      "                        'description': 'Federal Information Processing '\n",
      "                                       'Statndards (FIPS) code for the State '\n",
      "                                       'of Texas',\n",
      "                        'name': 'FIPS Code - State',\n",
      "                        'title': 'FIPS Code - State',\n",
      "                        'type': 'integer'},\n",
      "                       {'description': 'Federal Information Processing '\n",
      "                                       'Statndards (FIPS) code for Texas '\n",
      "                                       'Counties',\n",
      "                        'name': 'FIPS Code - County',\n",
      "                        'title': 'FIPS Code - County',\n",
      "                        'type': 'integer'},\n",
      "                       {'description': 'Geonames Identifier as documented by '\n",
      "                                       'https://www.geonames.org/',\n",
      "                        'name': 'geonames ID',\n",
      "                        'title': 'geonames ID',\n",
      "                        'type': 'integer'},\n",
      "                       {'description': 'Wikidata Identifier as documented by '\n",
      "                                       'https://www.wikidata.org/Wikidata:Identifiers',\n",
      "                        'name': 'wikidata ID',\n",
      "                        'title': 'wikidata ID',\n",
      "                        'type': 'string'},\n",
      "                       {'description': 'University of North Texas Library '\n",
      "                                       '(UNTL) County String Identifier, '\n",
      "                                       \"formatted as '[County Name], TX'\",\n",
      "                        'name': 'UNTL County String',\n",
      "                        'title': 'UNTL County String',\n",
      "                        'type': 'string'},\n",
      "                       {'description': 'University of North Texas Library '\n",
      "                                       '(UNTL) Place Name String Identifier, '\n",
      "                                       \"formatted as 'United States - Texas - \"\n",
      "                                       \"[County Name]'\",\n",
      "                        'name': 'UNTL Place Name String',\n",
      "                        'title': 'UNTL Place Name String',\n",
      "                        'type': 'string'}],\n",
      "            'missingValues': ['']},\n",
      " 'scheme': 'https'}\n"
     ]
    }
   ],
   "source": [
    "#handling missing values\n",
    "TX_CountyIDs.schema.missing_values = [\"\"]\n",
    "pp.pprint(TX_CountyIDs)"
   ]
  },
  {
   "cell_type": "code",
   "execution_count": 16,
   "metadata": {},
   "outputs": [
    {
     "name": "stdout",
     "output_type": "stream",
     "text": [
      "{'description': 'The FIPS Code, geonames, and wikidata identifiers, and string '\n",
      "                'formats used by the University of North Texas Libraries for '\n",
      "                'all 254 Counties in Texaas. Data was manually gathered from '\n",
      "                'several open online repositiories identified in the '\n",
      "                'descriptions of applicable variables / columns.',\n",
      " 'encoding': 'utf-8',\n",
      " 'format': 'csv',\n",
      " 'hashing': 'md5',\n",
      " 'name': 'tx-county_identifiers',\n",
      " 'path': 'https://raw.githubusercontent.com/unt-libraries/portal-leading/main/data/TX-County_Identifier/TX-County_Identifiers.csv',\n",
      " 'profile': 'tabular-data-resource',\n",
      " 'schema': {'fields': [{'description': 'Name of all Counties in Texas, n=254',\n",
      "                        'name': 'County Name',\n",
      "                        'title': 'County Name',\n",
      "                        'type': 'string'},\n",
      "                       {'constraints': {...},\n",
      "                        'description': 'Federal Information Processing '\n",
      "                                       'Statndards (FIPS) code for the State '\n",
      "                                       'of Texas',\n",
      "                        'name': 'FIPS Code - State',\n",
      "                        'title': 'FIPS Code - State',\n",
      "                        'type': 'integer'},\n",
      "                       {'description': 'Federal Information Processing '\n",
      "                                       'Statndards (FIPS) code for Texas '\n",
      "                                       'Counties',\n",
      "                        'name': 'FIPS Code - County',\n",
      "                        'title': 'FIPS Code - County',\n",
      "                        'type': 'integer'},\n",
      "                       {'description': 'Geonames Identifier as documented by '\n",
      "                                       'https://www.geonames.org/',\n",
      "                        'name': 'geonames ID',\n",
      "                        'title': 'geonames ID',\n",
      "                        'type': 'integer'},\n",
      "                       {'description': 'Wikidata Identifier as documented by '\n",
      "                                       'https://www.wikidata.org/Wikidata:Identifiers',\n",
      "                        'name': 'wikidata ID',\n",
      "                        'title': 'wikidata ID',\n",
      "                        'type': 'string'},\n",
      "                       {'description': 'University of North Texas Library '\n",
      "                                       '(UNTL) County String Identifier, '\n",
      "                                       \"formatted as '[County Name], TX'\",\n",
      "                        'name': 'UNTL County String',\n",
      "                        'title': 'UNTL County String',\n",
      "                        'type': 'string'},\n",
      "                       {'description': 'University of North Texas Library '\n",
      "                                       '(UNTL) Place Name String Identifier, '\n",
      "                                       \"formatted as 'United States - Texas - \"\n",
      "                                       \"[County Name]'\",\n",
      "                        'name': 'UNTL Place Name String',\n",
      "                        'title': 'UNTL Place Name String',\n",
      "                        'type': 'string'}],\n",
      "            'missingValues': ['']},\n",
      " 'scheme': 'https'}\n"
     ]
    }
   ],
   "source": [
    "#add table description\n",
    "TX_CountyIDs.description = \"The FIPS Code, geonames, and wikidata identifiers, and string formats used by the University of North Texas Libraries for all 254 Counties in Texaas. Data was manually gathered from several open online repositiories identified in the descriptions of applicable variables / columns.\"\n",
    "pp.pprint(TX_CountyIDs)"
   ]
  },
  {
   "cell_type": "code",
   "execution_count": 17,
   "metadata": {},
   "outputs": [
    {
     "data": {
      "text/plain": [
       "'{\\n  \"path\": \"https://raw.githubusercontent.com/unt-libraries/portal-leading/main/data/TX-County_Identifier/TX-County_Identifiers.csv\",\\n  \"name\": \"tx-county_identifiers\",\\n  \"profile\": \"tabular-data-resource\",\\n  \"scheme\": \"https\",\\n  \"format\": \"csv\",\\n  \"hashing\": \"md5\",\\n  \"encoding\": \"utf-8\",\\n  \"schema\": {\\n    \"fields\": [\\n      {\\n        \"name\": \"County Name\",\\n        \"type\": \"string\",\\n        \"title\": \"County Name\",\\n        \"description\": \"Name of all Counties in Texas, n=254\"\\n      },\\n      {\\n        \"name\": \"FIPS Code - State\",\\n        \"type\": \"integer\",\\n        \"title\": \"FIPS Code - State\",\\n        \"description\": \"Federal Information Processing Statndards (FIPS) code for the State of Texas\",\\n        \"constraints\": {\\n          \"enum\": [\\n            \"48\"\\n          ]\\n        }\\n      },\\n      {\\n        \"name\": \"FIPS Code - County\",\\n        \"type\": \"integer\",\\n        \"title\": \"FIPS Code - County\",\\n        \"description\": \"Federal Information Processing Statndards (FIPS) code for Texas Counties\"\\n      },\\n      {\\n        \"name\": \"geonames ID\",\\n        \"type\": \"integer\",\\n        \"title\": \"geonames ID\",\\n        \"description\": \"Geonames Identifier as documented by https://www.geonames.org/\"\\n      },\\n      {\\n        \"name\": \"wikidata ID\",\\n        \"type\": \"string\",\\n        \"title\": \"wikidata ID\",\\n        \"description\": \"Wikidata Identifier as documented by https://www.wikidata.org/Wikidata:Identifiers\"\\n      },\\n      {\\n        \"name\": \"UNTL County String\",\\n        \"type\": \"string\",\\n        \"title\": \"UNTL County String\",\\n        \"description\": \"University of North Texas Library (UNTL) County String Identifier, formatted as \\'[County Name], TX\\'\"\\n      },\\n      {\\n        \"name\": \"UNTL Place Name String\",\\n        \"type\": \"string\",\\n        \"title\": \"UNTL Place Name String\",\\n        \"description\": \"University of North Texas Library (UNTL) Place Name String Identifier, formatted as \\'United States - Texas - [County Name]\\'\"\\n      }\\n    ],\\n    \"missingValues\": [\\n      \"\"\\n    ]\\n  },\\n  \"description\": \"The FIPS Code, geonames, and wikidata identifiers, and string formats used by the University of North Texas Libraries for all 254 Counties in Texaas. Data was manually gathered from several open online repositiories identified in the descriptions of applicable variables / columns.\"\\n}'"
      ]
     },
     "execution_count": 17,
     "metadata": {},
     "output_type": "execute_result"
    }
   ],
   "source": [
    "#print JSON file\n",
    "TX_CountyIDs.to_json(\"TX_CountyIDs.json\")"
   ]
  },
  {
   "cell_type": "code",
   "execution_count": 9,
   "metadata": {},
   "outputs": [
    {
     "name": "stdout",
     "output_type": "stream",
     "text": [
      " Volume in drive C has no label.\n",
      " Volume Serial Number is 3A43-426E\n",
      "\n",
      " Directory of C:\\Users\\Dream Machine\n",
      "\n",
      "10/18/2021  12:08 PM    <DIR>          .\n",
      "10/18/2021  12:08 PM    <DIR>          ..\n",
      "02/16/2020  06:16 PM    <DIR>          .anaconda\n",
      "07/18/2021  02:01 PM    <DIR>          .atom\n",
      "05/25/2021  05:27 PM    <DIR>          .conda\n",
      "10/17/2021  10:42 PM                60 .condarc\n",
      "02/16/2020  06:16 PM    <DIR>          .config\n",
      "09/02/2021  10:07 PM               177 .gitconfig\n",
      "12/13/2019  10:57 AM    <DIR>          .idlerc\n",
      "10/18/2021  11:12 AM    <DIR>          .ipynb_checkpoints\n",
      "02/16/2020  06:16 PM    <DIR>          .ipython\n",
      "10/18/2021  11:03 AM    <DIR>          .jupyter\n",
      "02/16/2020  06:16 PM    <DIR>          .matplotlib\n",
      "05/18/2019  10:54 AM    <DIR>          .Origin\n",
      "10/17/2021  08:48 PM    <DIR>          .PyCharmCE2019.3\n",
      "05/18/2019  10:54 AM    <DIR>          .QtWebEngineProcess\n",
      "02/19/2020  09:40 PM    <DIR>          .spyder-py3\n",
      "02/09/2020  05:29 PM    <DIR>          .thumbnails\n",
      "08/18/2021  09:01 PM    <DIR>          .Waves Central\n",
      "05/31/2020  10:17 PM    <DIR>          3D Objects\n",
      "10/17/2021  09:42 PM    <DIR>          Anaconda3\n",
      "05/31/2020  10:17 PM    <DIR>          Contacts\n",
      "10/13/2021  07:02 PM    <DIR>          Desktop\n",
      "10/02/2021  01:30 PM    <DIR>          Documents\n",
      "09/25/2021  11:16 AM    <DIR>          Downloads\n",
      "05/31/2020  10:17 PM    <DIR>          Favorites\n",
      "10/18/2021  11:11 AM            29,350 Frictionless-App-Script_NP-Titles.ipynb\n",
      "10/18/2021  12:08 PM            26,197 Frictionless-App-Script_TX-County-IDs.ipynb\n",
      "05/31/2020  10:17 PM    <DIR>          Links\n",
      "05/31/2020  10:17 PM    <DIR>          Music\n",
      "10/18/2021  11:10 AM             3,024 NP_Titles.json\n",
      "08/08/2021  05:41 PM    <DIR>          OneDrive\n",
      "08/30/2021  06:45 PM             1,305 Origin.sln\n",
      "09/02/2021  01:23 PM    <DIR>          Pictures\n",
      "10/17/2021  09:36 PM    <DIR>          PycharmProjects\n",
      "02/18/2020  07:58 PM    <DIR>          Python Practice_cc\n",
      "02/19/2021  08:46 PM    <DIR>          Saved Games\n",
      "05/31/2020  10:17 PM    <DIR>          Searches\n",
      "02/25/2020  07:55 PM    <DIR>          source\n",
      "10/18/2021  12:08 PM             2,332 TX_CountyIDs.json\n",
      "10/17/2021  02:11 PM                72 Untitled.ipynb\n",
      "05/31/2020  10:17 PM    <DIR>          Videos\n",
      "08/08/2020  02:03 PM    <DIR>          Zotero\n",
      "               8 File(s)         62,517 bytes\n",
      "              35 Dir(s)  92,888,440,832 bytes free\n"
     ]
    }
   ],
   "source": [
    "ls"
   ]
  }
 ],
 "metadata": {
  "kernelspec": {
   "display_name": "Python 3 (ipykernel)",
   "language": "python",
   "name": "python3"
  },
  "language_info": {
   "codemirror_mode": {
    "name": "ipython",
    "version": 3
   },
   "file_extension": ".py",
   "mimetype": "text/x-python",
   "name": "python",
   "nbconvert_exporter": "python",
   "pygments_lexer": "ipython3",
   "version": "3.9.7"
  }
 },
 "nbformat": 4,
 "nbformat_minor": 4
}
