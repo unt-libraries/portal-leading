{
 "cells": [
  {
   "cell_type": "code",
   "execution_count": null,
   "metadata": {},
   "outputs": [],
   "source": [
    "#Application of frictionless principles to the relevant datafile\n",
    "#output is JSON file describing the relevant datafile\n",
    "\n",
    "#Please download frictionless at frictionlessdata.io/software/#software-toolkit"
   ]
  },
  {
   "cell_type": "code",
   "execution_count": 1,
   "metadata": {},
   "outputs": [],
   "source": [
    "#import frictionless packages\n",
    "import frictionless\n",
    "from frictionless import describe\n",
    "\n",
    "import pprint\n",
    "pp = pprint.PrettyPrinter(depth=4)"
   ]
  },
  {
   "cell_type": "code",
   "execution_count": 2,
   "metadata": {},
   "outputs": [
    {
     "name": "stdout",
     "output_type": "stream",
     "text": [
      "{'encoding': 'utf-8-sig',\n",
      " 'format': 'csv',\n",
      " 'hashing': 'md5',\n",
      " 'name': 'tx_digital-newspaper-program_issues',\n",
      " 'path': 'https://raw.githubusercontent.com/unt-libraries/portal-leading/main/data/TX_Digital-Newspaper-Program_Issues/TX_Digital-Newspaper-Program_Issues.csv',\n",
      " 'profile': 'tabular-data-resource',\n",
      " 'schema': {'fields': [{'name': 'county', 'type': 'string'},\n",
      "                       {'name': 'state', 'type': 'string'},\n",
      "                       {'name': 'year_start', 'type': 'integer'},\n",
      "                       {'name': 'year-end', 'type': 'integer'},\n",
      "                       {'name': 'count', 'type': 'integer'}]},\n",
      " 'scheme': 'https'}\n"
     ]
    }
   ],
   "source": [
    "#'describe' datasets and print\n",
    "TX_DNP = describe('https://raw.githubusercontent.com/unt-libraries/portal-leading/main/data/TX_Digital-Newspaper-Program_Issues/TX_Digital-Newspaper-Program_Issues.csv')\n",
    "\n",
    "pp.pprint(TX_DNP)"
   ]
  },
  {
   "cell_type": "code",
   "execution_count": 3,
   "metadata": {},
   "outputs": [
    {
     "name": "stdout",
     "output_type": "stream",
     "text": [
      "{'encoding': 'utf-8-sig',\n",
      " 'format': 'csv',\n",
      " 'hashing': 'md5',\n",
      " 'name': 'tx_digital-newspaper-program_issues',\n",
      " 'path': 'https://raw.githubusercontent.com/unt-libraries/portal-leading/main/data/TX_Digital-Newspaper-Program_Issues/TX_Digital-Newspaper-Program_Issues.csv',\n",
      " 'profile': 'tabular-data-resource',\n",
      " 'schema': {'fields': [{'description': 'Texas county name',\n",
      "                        'name': 'county',\n",
      "                        'title': 'County',\n",
      "                        'type': 'string'},\n",
      "                       {'description': 'Indicator for State - this dataset is '\n",
      "                                       'only relevant to Texas',\n",
      "                        'name': 'state',\n",
      "                        'title': 'State, Texas',\n",
      "                        'type': 'string'},\n",
      "                       {'description': 'Year indicating the beginning of each '\n",
      "                                       'decade for the corresponding count of '\n",
      "                                       'issues in the relevant county',\n",
      "                        'name': 'year_start',\n",
      "                        'title': 'Start Year',\n",
      "                        'type': 'integer'},\n",
      "                       {'description': 'Year indicating the end of each decade '\n",
      "                                       'for the corresponding count of issues '\n",
      "                                       'in the relevant county',\n",
      "                        'name': 'year-end',\n",
      "                        'title': 'End Year',\n",
      "                        'type': 'integer'},\n",
      "                       {'description': 'Number of newspaper issues released '\n",
      "                                       'for each county within the specified '\n",
      "                                       'decade, regardless of title, according '\n",
      "                                       'to the Texas Digital Newspaper Program '\n",
      "                                       '(TDNP)',\n",
      "                        'name': 'count',\n",
      "                        'title': 'Issues Count',\n",
      "                        'type': 'integer'}]},\n",
      " 'scheme': 'https'}\n"
     ]
    }
   ],
   "source": [
    "#applying more detail to each column\n",
    "TX_DNP.schema.get_field(\"county\").title = \"County\"\n",
    "TX_DNP.schema.get_field(\"county\").description = \"Texas county name\"\n",
    "\n",
    "TX_DNP.schema.get_field(\"state\").title = \"State, Texas\"\n",
    "TX_DNP.schema.get_field(\"state\").description = \"Indicator for State - this dataset is only relevant to Texas\"\n",
    "\n",
    "TX_DNP.schema.get_field(\"year_start\").title = \"Start Year\"\n",
    "TX_DNP.schema.get_field(\"year_start\").description = \"Year indicating the beginning of each decade for the corresponding count of issues in the relevant county\"\n",
    "\n",
    "TX_DNP.schema.get_field(\"year-end\").title = \"End Year\"\n",
    "TX_DNP.schema.get_field(\"year-end\").description = \"Year indicating the end of each decade for the corresponding count of issues in the relevant county\"\n",
    "\n",
    "TX_DNP.schema.get_field(\"count\").title = \"Issues Count\"\n",
    "TX_DNP.schema.get_field(\"count\").description = \"Number of newspaper issues released for each county within the specified decade, regardless of title, according to the Texas Digital Newspaper Program (TDNP)\"\n",
    "\n",
    "\n",
    "pp.pprint(TX_DNP)"
   ]
  },
  {
   "cell_type": "code",
   "execution_count": 4,
   "metadata": {},
   "outputs": [
    {
     "name": "stdout",
     "output_type": "stream",
     "text": [
      "{'encoding': 'utf-8-sig',\n",
      " 'format': 'csv',\n",
      " 'hashing': 'md5',\n",
      " 'name': 'tx_digital-newspaper-program_issues',\n",
      " 'path': 'https://raw.githubusercontent.com/unt-libraries/portal-leading/main/data/TX_Digital-Newspaper-Program_Issues/TX_Digital-Newspaper-Program_Issues.csv',\n",
      " 'profile': 'tabular-data-resource',\n",
      " 'schema': {'fields': [{'description': 'Texas county name',\n",
      "                        'name': 'county',\n",
      "                        'title': 'County',\n",
      "                        'type': 'string'},\n",
      "                       {'description': 'Indicator for State - this dataset is '\n",
      "                                       'only relevant to Texas',\n",
      "                        'name': 'state',\n",
      "                        'title': 'State, Texas',\n",
      "                        'type': 'string'},\n",
      "                       {'description': 'Year indicating the beginning of each '\n",
      "                                       'decade for the corresponding count of '\n",
      "                                       'issues in the relevant county',\n",
      "                        'name': 'year_start',\n",
      "                        'title': 'Start Year',\n",
      "                        'type': 'integer'},\n",
      "                       {'description': 'Year indicating the end of each decade '\n",
      "                                       'for the corresponding count of issues '\n",
      "                                       'in the relevant county',\n",
      "                        'name': 'year-end',\n",
      "                        'title': 'End Year',\n",
      "                        'type': 'integer'},\n",
      "                       {'description': 'Number of newspaper issues released '\n",
      "                                       'for each county within the specified '\n",
      "                                       'decade, regardless of title, according '\n",
      "                                       'to the Texas Digital Newspaper Program '\n",
      "                                       '(TDNP)',\n",
      "                        'name': 'count',\n",
      "                        'title': 'Issues Count',\n",
      "                        'type': 'integer'}],\n",
      "            'missingValues': ['']},\n",
      " 'scheme': 'https'}\n"
     ]
    }
   ],
   "source": [
    "#handling missing values\n",
    "TX_DNP.schema.missing_values = [\"\"]\n",
    "pp.pprint(TX_DNP)"
   ]
  },
  {
   "cell_type": "code",
   "execution_count": 5,
   "metadata": {},
   "outputs": [
    {
     "name": "stdout",
     "output_type": "stream",
     "text": [
      "{'encoding': 'utf-8-sig',\n",
      " 'format': 'csv',\n",
      " 'hashing': 'md5',\n",
      " 'name': 'tx_digital-newspaper-program_issues',\n",
      " 'path': 'https://raw.githubusercontent.com/unt-libraries/portal-leading/main/data/TX_Digital-Newspaper-Program_Issues/TX_Digital-Newspaper-Program_Issues.csv',\n",
      " 'profile': 'tabular-data-resource',\n",
      " 'schema': {'fields': [{'description': 'Texas county name',\n",
      "                        'name': 'county',\n",
      "                        'title': 'County',\n",
      "                        'type': 'string'},\n",
      "                       {'constraints': {...},\n",
      "                        'description': 'Indicator for State - this dataset is '\n",
      "                                       'only relevant to Texas',\n",
      "                        'name': 'state',\n",
      "                        'title': 'State, Texas',\n",
      "                        'type': 'string'},\n",
      "                       {'description': 'Year indicating the beginning of each '\n",
      "                                       'decade for the corresponding count of '\n",
      "                                       'issues in the relevant county',\n",
      "                        'name': 'year_start',\n",
      "                        'title': 'Start Year',\n",
      "                        'type': 'integer'},\n",
      "                       {'description': 'Year indicating the end of each decade '\n",
      "                                       'for the corresponding count of issues '\n",
      "                                       'in the relevant county',\n",
      "                        'name': 'year-end',\n",
      "                        'title': 'End Year',\n",
      "                        'type': 'integer'},\n",
      "                       {'description': 'Number of newspaper issues released '\n",
      "                                       'for each county within the specified '\n",
      "                                       'decade, regardless of title, according '\n",
      "                                       'to the Texas Digital Newspaper Program '\n",
      "                                       '(TDNP)',\n",
      "                        'name': 'count',\n",
      "                        'title': 'Issues Count',\n",
      "                        'type': 'integer'}],\n",
      "            'missingValues': ['']},\n",
      " 'scheme': 'https'}\n"
     ]
    }
   ],
   "source": [
    "#apply constraint field descriptors to the tables\n",
    "TX_DNP.schema.get_field(\"state\").constraints[\"enum\"] = ['TX']\n",
    "\n",
    "pp.pprint(TX_DNP)"
   ]
  },
  {
   "cell_type": "code",
   "execution_count": 6,
   "metadata": {},
   "outputs": [
    {
     "name": "stdout",
     "output_type": "stream",
     "text": [
      "{'description': 'This dataset contains the number of newspaper issues released '\n",
      "                'for each county within the decade specified by the start year '\n",
      "                'and end year columns, regardless of title, according to the '\n",
      "                'Texas Digital Newspaper Program (TDNP) ',\n",
      " 'encoding': 'utf-8-sig',\n",
      " 'format': 'csv',\n",
      " 'hashing': 'md5',\n",
      " 'name': 'tx_digital-newspaper-program_issues',\n",
      " 'path': 'https://raw.githubusercontent.com/unt-libraries/portal-leading/main/data/TX_Digital-Newspaper-Program_Issues/TX_Digital-Newspaper-Program_Issues.csv',\n",
      " 'profile': 'tabular-data-resource',\n",
      " 'schema': {'fields': [{'description': 'Texas county name',\n",
      "                        'name': 'county',\n",
      "                        'title': 'County',\n",
      "                        'type': 'string'},\n",
      "                       {'constraints': {...},\n",
      "                        'description': 'Indicator for State - this dataset is '\n",
      "                                       'only relevant to Texas',\n",
      "                        'name': 'state',\n",
      "                        'title': 'State, Texas',\n",
      "                        'type': 'string'},\n",
      "                       {'description': 'Year indicating the beginning of each '\n",
      "                                       'decade for the corresponding count of '\n",
      "                                       'issues in the relevant county',\n",
      "                        'name': 'year_start',\n",
      "                        'title': 'Start Year',\n",
      "                        'type': 'integer'},\n",
      "                       {'description': 'Year indicating the end of each decade '\n",
      "                                       'for the corresponding count of issues '\n",
      "                                       'in the relevant county',\n",
      "                        'name': 'year-end',\n",
      "                        'title': 'End Year',\n",
      "                        'type': 'integer'},\n",
      "                       {'description': 'Number of newspaper issues released '\n",
      "                                       'for each county within the specified '\n",
      "                                       'decade, regardless of title, according '\n",
      "                                       'to the Texas Digital Newspaper Program '\n",
      "                                       '(TDNP)',\n",
      "                        'name': 'count',\n",
      "                        'title': 'Issues Count',\n",
      "                        'type': 'integer'}],\n",
      "            'missingValues': ['']},\n",
      " 'scheme': 'https'}\n"
     ]
    }
   ],
   "source": [
    "#add table description\n",
    "TX_DNP.description = \"This dataset contains the number of newspaper issues released for each county within the decade specified by the start year and end year columns, regardless of title, according to the Texas Digital Newspaper Program (TDNP) \"\n",
    "pp.pprint(TX_DNP)"
   ]
  },
  {
   "cell_type": "code",
   "execution_count": 7,
   "metadata": {},
   "outputs": [
    {
     "data": {
      "text/plain": [
       "'{\\n  \"path\": \"https://raw.githubusercontent.com/unt-libraries/portal-leading/main/data/TX_Digital-Newspaper-Program_Issues/TX_Digital-Newspaper-Program_Issues.csv\",\\n  \"name\": \"tx_digital-newspaper-program_issues\",\\n  \"profile\": \"tabular-data-resource\",\\n  \"scheme\": \"https\",\\n  \"format\": \"csv\",\\n  \"hashing\": \"md5\",\\n  \"encoding\": \"utf-8-sig\",\\n  \"schema\": {\\n    \"fields\": [\\n      {\\n        \"name\": \"county\",\\n        \"type\": \"string\",\\n        \"title\": \"County\",\\n        \"description\": \"Texas county name\"\\n      },\\n      {\\n        \"name\": \"state\",\\n        \"type\": \"string\",\\n        \"title\": \"State, Texas\",\\n        \"description\": \"Indicator for State - this dataset is only relevant to Texas\",\\n        \"constraints\": {\\n          \"enum\": [\\n            \"TX\"\\n          ]\\n        }\\n      },\\n      {\\n        \"name\": \"year_start\",\\n        \"type\": \"integer\",\\n        \"title\": \"Start Year\",\\n        \"description\": \"Year indicating the beginning of each decade for the corresponding count of issues in the relevant county\"\\n      },\\n      {\\n        \"name\": \"year-end\",\\n        \"type\": \"integer\",\\n        \"title\": \"End Year\",\\n        \"description\": \"Year indicating the end of each decade for the corresponding count of issues in the relevant county\"\\n      },\\n      {\\n        \"name\": \"count\",\\n        \"type\": \"integer\",\\n        \"title\": \"Issues Count\",\\n        \"description\": \"Number of newspaper issues released for each county within the specified decade, regardless of title, according to the Texas Digital Newspaper Program (TDNP)\"\\n      }\\n    ],\\n    \"missingValues\": [\\n      \"\"\\n    ]\\n  },\\n  \"description\": \"This dataset contains the number of newspaper issues released for each county within the decade specified by the start year and end year columns, regardless of title, according to the Texas Digital Newspaper Program (TDNP) \"\\n}'"
      ]
     },
     "execution_count": 7,
     "metadata": {},
     "output_type": "execute_result"
    }
   ],
   "source": [
    "#print JSON file\n",
    "TX_DNP.to_json(\"tableschema.json\")"
   ]
  },
  {
   "cell_type": "code",
   "execution_count": 8,
   "metadata": {},
   "outputs": [
    {
     "name": "stdout",
     "output_type": "stream",
     "text": [
      " Volume in drive C has no label.\n",
      " Volume Serial Number is 3A43-426E\n",
      "\n",
      " Directory of C:\\Users\\Dream Machine\\Desktop\\LEADING20211018\\TX-History-Photographic-Dataset_Items\n",
      "\n",
      "11/03/2021  06:40 PM    <DIR>          .\n",
      "11/03/2021  06:40 PM    <DIR>          ..\n",
      "11/03/2021  06:27 PM    <DIR>          .ipynb_checkpoints\n",
      "11/03/2021  06:26 PM            21,274 Frictionless-App-Script_TX-History-Photographic-Dataset_Items.ipynb\n",
      "11/03/2021  06:40 PM             1,870 tableschema.json\n",
      "               2 File(s)         23,144 bytes\n",
      "               3 Dir(s)  50,567,770,112 bytes free\n"
     ]
    }
   ],
   "source": [
    "ls"
   ]
  },
  {
   "cell_type": "code",
   "execution_count": null,
   "metadata": {},
   "outputs": [],
   "source": []
  }
 ],
 "metadata": {
  "kernelspec": {
   "display_name": "Python 3",
   "language": "python",
   "name": "python3"
  },
  "language_info": {
   "codemirror_mode": {
    "name": "ipython",
    "version": 3
   },
   "file_extension": ".py",
   "mimetype": "text/x-python",
   "name": "python",
   "nbconvert_exporter": "python",
   "pygments_lexer": "ipython3",
   "version": "3.7.4"
  }
 },
 "nbformat": 4,
 "nbformat_minor": 4
}
