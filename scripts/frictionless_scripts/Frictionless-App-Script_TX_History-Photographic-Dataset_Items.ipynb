{
 "cells": [
  {
   "cell_type": "code",
   "execution_count": null,
   "metadata": {},
   "outputs": [],
   "source": [
    "#Application of frictionless principles to the relevant datafile\n",
    "#output is JSON file describing the relevant datafile\n",
    "\n",
    "#Please download frictionless at frictionlessdata.io/software/#software-toolkit"
   ]
  },
  {
   "cell_type": "code",
   "execution_count": 14,
   "metadata": {},
   "outputs": [],
   "source": [
    "#import frictionless packages\n",
    "import frictionless\n",
    "from frictionless import describe\n",
    "\n",
    "import pprint\n",
    "pp = pprint.PrettyPrinter(depth=4)"
   ]
  },
  {
   "cell_type": "code",
   "execution_count": 15,
   "metadata": {},
   "outputs": [
    {
     "name": "stdout",
     "output_type": "stream",
     "text": [
      "{'encoding': 'utf-8',\n",
      " 'format': 'csv',\n",
      " 'hashing': 'md5',\n",
      " 'name': 'tx-history-photographic-dataset_items',\n",
      " 'path': 'https://raw.githubusercontent.com/unt-libraries/portal-leading/main/data/TX_History-Photographic-Dataset_Items/TX-History-Photographic-Dataset_Items.csv',\n",
      " 'profile': 'tabular-data-resource',\n",
      " 'schema': {'fields': [{'name': 'County', 'type': 'string'},\n",
      "                       {'name': 'state', 'type': 'string'},\n",
      "                       {'name': 'year_start', 'type': 'integer'},\n",
      "                       {'name': 'year-end', 'type': 'integer'},\n",
      "                       {'name': 'count', 'type': 'integer'}]},\n",
      " 'scheme': 'https'}\n"
     ]
    }
   ],
   "source": [
    "#'describe' datasets and print\n",
    "TX_HPD = describe('https://raw.githubusercontent.com/unt-libraries/portal-leading/main/data/TX_History-Photographic-Dataset_Items/TX-History-Photographic-Dataset_Items.csv')\n",
    "\n",
    "pp.pprint(TX_HPD)"
   ]
  },
  {
   "cell_type": "code",
   "execution_count": 19,
   "metadata": {},
   "outputs": [
    {
     "name": "stdout",
     "output_type": "stream",
     "text": [
      "{'encoding': 'utf-8',\n",
      " 'format': 'csv',\n",
      " 'hashing': 'md5',\n",
      " 'name': 'tx-history-photographic-dataset_items',\n",
      " 'path': 'https://raw.githubusercontent.com/unt-libraries/portal-leading/main/data/TX_History-Photographic-Dataset_Items/TX-History-Photographic-Dataset_Items.csv',\n",
      " 'profile': 'tabular-data-resource',\n",
      " 'schema': {'fields': [{'description': 'Texas county name',\n",
      "                        'name': 'County',\n",
      "                        'title': 'County',\n",
      "                        'type': 'string'},\n",
      "                       {'constraints': {...},\n",
      "                        'description': 'Indicator for State - this dataset is '\n",
      "                                       'only relevant to Texas',\n",
      "                        'name': 'state',\n",
      "                        'title': 'State, Texas',\n",
      "                        'type': 'string'},\n",
      "                       {'description': 'Year indicating the beginning of each '\n",
      "                                       'decade for the corresponding count of '\n",
      "                                       'items in the relevant county',\n",
      "                        'name': 'year_start',\n",
      "                        'title': 'Start Year',\n",
      "                        'type': 'integer'},\n",
      "                       {'description': 'Year indicating the end of each decade '\n",
      "                                       'for the corresponding count of items '\n",
      "                                       'in the relevant county',\n",
      "                        'name': 'year-end',\n",
      "                        'title': 'End Year',\n",
      "                        'type': 'integer'},\n",
      "                       {'description': 'Number of photographic items released '\n",
      "                                       'in each county within the specified '\n",
      "                                       'decade, regardless of source, '\n",
      "                                       'according to the Texas History '\n",
      "                                       'Photographic Dataset (THPD)',\n",
      "                        'name': 'count',\n",
      "                        'title': 'Items Count',\n",
      "                        'type': 'integer'}],\n",
      "            'missingValues': ['']},\n",
      " 'scheme': 'https'}\n"
     ]
    }
   ],
   "source": [
    "#applying more detail to each column\n",
    "TX_HPD.schema.get_field(\"County\").title = \"County\"\n",
    "TX_HPD.schema.get_field(\"County\").description = \"Texas county name\"\n",
    "\n",
    "TX_HPD.schema.get_field(\"state\").title = \"State, Texas\"\n",
    "TX_HPD.schema.get_field(\"state\").description = \"Indicator for State - this dataset is only relevant to Texas\"\n",
    "\n",
    "TX_HPD.schema.get_field(\"year_start\").title = \"Start Year\"\n",
    "TX_HPD.schema.get_field(\"year_start\").description = \"Year indicating the beginning of each decade for the corresponding count of items in the relevant county\"\n",
    "\n",
    "TX_HPD.schema.get_field(\"year-end\").title = \"End Year\"\n",
    "TX_HPD.schema.get_field(\"year-end\").description = \"Year indicating the end of each decade for the corresponding count of items in the relevant county\"\n",
    "\n",
    "TX_HPD.schema.get_field(\"count\").title = \"Items Count\"\n",
    "TX_HPD.schema.get_field(\"count\").description = \"Number of photographic items released in each county within the specified decade, regardless of source, according to the Texas History Photographic Dataset (THPD)\"\n",
    "\n",
    "\n",
    "pp.pprint(TX_HPD)"
   ]
  },
  {
   "cell_type": "code",
   "execution_count": 20,
   "metadata": {},
   "outputs": [
    {
     "name": "stdout",
     "output_type": "stream",
     "text": [
      "{'encoding': 'utf-8',\n",
      " 'format': 'csv',\n",
      " 'hashing': 'md5',\n",
      " 'name': 'tx-history-photographic-dataset_items',\n",
      " 'path': 'https://raw.githubusercontent.com/unt-libraries/portal-leading/main/data/TX_History-Photographic-Dataset_Items/TX-History-Photographic-Dataset_Items.csv',\n",
      " 'profile': 'tabular-data-resource',\n",
      " 'schema': {'fields': [{'description': 'Texas county name',\n",
      "                        'name': 'County',\n",
      "                        'title': 'County',\n",
      "                        'type': 'string'},\n",
      "                       {'constraints': {...},\n",
      "                        'description': 'Indicator for State - this dataset is '\n",
      "                                       'only relevant to Texas',\n",
      "                        'name': 'state',\n",
      "                        'title': 'State, Texas',\n",
      "                        'type': 'string'},\n",
      "                       {'description': 'Year indicating the beginning of each '\n",
      "                                       'decade for the corresponding count of '\n",
      "                                       'items in the relevant county',\n",
      "                        'name': 'year_start',\n",
      "                        'title': 'Start Year',\n",
      "                        'type': 'integer'},\n",
      "                       {'description': 'Year indicating the end of each decade '\n",
      "                                       'for the corresponding count of items '\n",
      "                                       'in the relevant county',\n",
      "                        'name': 'year-end',\n",
      "                        'title': 'End Year',\n",
      "                        'type': 'integer'},\n",
      "                       {'description': 'Number of photographic items released '\n",
      "                                       'in each county within the specified '\n",
      "                                       'decade, regardless of source, '\n",
      "                                       'according to the Texas History '\n",
      "                                       'Photographic Dataset (THPD)',\n",
      "                        'name': 'count',\n",
      "                        'title': 'Items Count',\n",
      "                        'type': 'integer'}],\n",
      "            'missingValues': ['']},\n",
      " 'scheme': 'https'}\n"
     ]
    }
   ],
   "source": [
    "#handling missing values\n",
    "TX_HPD.schema.missing_values = [\"\"]\n",
    "pp.pprint(TX_HPD)"
   ]
  },
  {
   "cell_type": "code",
   "execution_count": 21,
   "metadata": {},
   "outputs": [
    {
     "name": "stdout",
     "output_type": "stream",
     "text": [
      "{'encoding': 'utf-8',\n",
      " 'format': 'csv',\n",
      " 'hashing': 'md5',\n",
      " 'name': 'tx-history-photographic-dataset_items',\n",
      " 'path': 'https://raw.githubusercontent.com/unt-libraries/portal-leading/main/data/TX_History-Photographic-Dataset_Items/TX-History-Photographic-Dataset_Items.csv',\n",
      " 'profile': 'tabular-data-resource',\n",
      " 'schema': {'fields': [{'description': 'Texas county name',\n",
      "                        'name': 'County',\n",
      "                        'title': 'County',\n",
      "                        'type': 'string'},\n",
      "                       {'constraints': {...},\n",
      "                        'description': 'Indicator for State - this dataset is '\n",
      "                                       'only relevant to Texas',\n",
      "                        'name': 'state',\n",
      "                        'title': 'State, Texas',\n",
      "                        'type': 'string'},\n",
      "                       {'description': 'Year indicating the beginning of each '\n",
      "                                       'decade for the corresponding count of '\n",
      "                                       'items in the relevant county',\n",
      "                        'name': 'year_start',\n",
      "                        'title': 'Start Year',\n",
      "                        'type': 'integer'},\n",
      "                       {'description': 'Year indicating the end of each decade '\n",
      "                                       'for the corresponding count of items '\n",
      "                                       'in the relevant county',\n",
      "                        'name': 'year-end',\n",
      "                        'title': 'End Year',\n",
      "                        'type': 'integer'},\n",
      "                       {'description': 'Number of photographic items released '\n",
      "                                       'in each county within the specified '\n",
      "                                       'decade, regardless of source, '\n",
      "                                       'according to the Texas History '\n",
      "                                       'Photographic Dataset (THPD)',\n",
      "                        'name': 'count',\n",
      "                        'title': 'Items Count',\n",
      "                        'type': 'integer'}],\n",
      "            'missingValues': ['']},\n",
      " 'scheme': 'https'}\n"
     ]
    }
   ],
   "source": [
    "#apply constraint field descriptors to the tables\n",
    "TX_HPD.schema.get_field(\"state\").constraints[\"enum\"] = ['TX']\n",
    "\n",
    "pp.pprint(TX_HPD)"
   ]
  },
  {
   "cell_type": "code",
   "execution_count": 22,
   "metadata": {},
   "outputs": [
    {
     "name": "stdout",
     "output_type": "stream",
     "text": [
      "{'description': 'This dataset contains the number of photographic items '\n",
      "                'released for each county within the decade specified by the '\n",
      "                'start year and end year columns, regardless of source, '\n",
      "                'according to the Texas History Photographic Dataset (THPD)',\n",
      " 'encoding': 'utf-8',\n",
      " 'format': 'csv',\n",
      " 'hashing': 'md5',\n",
      " 'name': 'tx-history-photographic-dataset_items',\n",
      " 'path': 'https://raw.githubusercontent.com/unt-libraries/portal-leading/main/data/TX_History-Photographic-Dataset_Items/TX-History-Photographic-Dataset_Items.csv',\n",
      " 'profile': 'tabular-data-resource',\n",
      " 'schema': {'fields': [{'description': 'Texas county name',\n",
      "                        'name': 'County',\n",
      "                        'title': 'County',\n",
      "                        'type': 'string'},\n",
      "                       {'constraints': {...},\n",
      "                        'description': 'Indicator for State - this dataset is '\n",
      "                                       'only relevant to Texas',\n",
      "                        'name': 'state',\n",
      "                        'title': 'State, Texas',\n",
      "                        'type': 'string'},\n",
      "                       {'description': 'Year indicating the beginning of each '\n",
      "                                       'decade for the corresponding count of '\n",
      "                                       'items in the relevant county',\n",
      "                        'name': 'year_start',\n",
      "                        'title': 'Start Year',\n",
      "                        'type': 'integer'},\n",
      "                       {'description': 'Year indicating the end of each decade '\n",
      "                                       'for the corresponding count of items '\n",
      "                                       'in the relevant county',\n",
      "                        'name': 'year-end',\n",
      "                        'title': 'End Year',\n",
      "                        'type': 'integer'},\n",
      "                       {'description': 'Number of photographic items released '\n",
      "                                       'in each county within the specified '\n",
      "                                       'decade, regardless of source, '\n",
      "                                       'according to the Texas History '\n",
      "                                       'Photographic Dataset (THPD)',\n",
      "                        'name': 'count',\n",
      "                        'title': 'Items Count',\n",
      "                        'type': 'integer'}],\n",
      "            'missingValues': ['']},\n",
      " 'scheme': 'https'}\n"
     ]
    }
   ],
   "source": [
    "#add table description\n",
    "TX_HPD.description = \"This dataset contains the number of photographic items released for each county within the decade specified by the start year and end year columns, regardless of source, according to the Texas History Photographic Dataset (THPD)\"\n",
    "pp.pprint(TX_HPD)"
   ]
  },
  {
   "cell_type": "code",
   "execution_count": 24,
   "metadata": {},
   "outputs": [
    {
     "data": {
      "text/plain": [
       "'{\\n  \"path\": \"https://raw.githubusercontent.com/unt-libraries/portal-leading/main/data/TX_History-Photographic-Dataset_Items/TX-History-Photographic-Dataset_Items.csv\",\\n  \"name\": \"tx-history-photographic-dataset_items\",\\n  \"profile\": \"tabular-data-resource\",\\n  \"scheme\": \"https\",\\n  \"format\": \"csv\",\\n  \"hashing\": \"md5\",\\n  \"encoding\": \"utf-8\",\\n  \"schema\": {\\n    \"fields\": [\\n      {\\n        \"name\": \"County\",\\n        \"type\": \"string\",\\n        \"title\": \"County\",\\n        \"description\": \"Texas county name\"\\n      },\\n      {\\n        \"name\": \"state\",\\n        \"type\": \"string\",\\n        \"title\": \"State, Texas\",\\n        \"description\": \"Indicator for State - this dataset is only relevant to Texas\",\\n        \"constraints\": {\\n          \"enum\": [\\n            \"TX\"\\n          ]\\n        }\\n      },\\n      {\\n        \"name\": \"year_start\",\\n        \"type\": \"integer\",\\n        \"title\": \"Start Year\",\\n        \"description\": \"Year indicating the beginning of each decade for the corresponding count of items in the relevant county\"\\n      },\\n      {\\n        \"name\": \"year-end\",\\n        \"type\": \"integer\",\\n        \"title\": \"End Year\",\\n        \"description\": \"Year indicating the end of each decade for the corresponding count of items in the relevant county\"\\n      },\\n      {\\n        \"name\": \"count\",\\n        \"type\": \"integer\",\\n        \"title\": \"Items Count\",\\n        \"description\": \"Number of photographic items released in each county within the specified decade, regardless of source, according to the Texas History Photographic Dataset (THPD)\"\\n      }\\n    ],\\n    \"missingValues\": [\\n      \"\"\\n    ]\\n  },\\n  \"description\": \"This dataset contains the number of photographic items released for each county within the decade specified by the start year and end year columns, regardless of source, according to the Texas History Photographic Dataset (THPD)\"\\n}'"
      ]
     },
     "execution_count": 24,
     "metadata": {},
     "output_type": "execute_result"
    }
   ],
   "source": [
    "#print JSON file\n",
    "TX_HPD.to_json(\"tableschema.json\")"
   ]
  },
  {
   "cell_type": "code",
   "execution_count": 25,
   "metadata": {},
   "outputs": [
    {
     "name": "stdout",
     "output_type": "stream",
     "text": [
      " Volume in drive C has no label.\n",
      " Volume Serial Number is 3A43-426E\n",
      "\n",
      " Directory of C:\\Users\\Dream Machine\\Desktop\\LEADING20211018\\TX_Digital-Newspaper-Program_Issues\n",
      "\n",
      "11/03/2021  06:37 PM    <DIR>          .\n",
      "11/03/2021  06:37 PM    <DIR>          ..\n",
      "11/03/2021  06:26 PM    <DIR>          .ipynb_checkpoints\n",
      "11/03/2021  06:37 PM            20,942 Frictionless-App-Script_TX-Digital-Newspaper-Program_Issues.ipynb\n",
      "11/03/2021  06:38 PM             1,879 tableschema.json\n",
      "               2 File(s)         22,821 bytes\n",
      "               3 Dir(s)  50,568,605,696 bytes free\n"
     ]
    }
   ],
   "source": [
    "ls"
   ]
  },
  {
   "cell_type": "code",
   "execution_count": null,
   "metadata": {},
   "outputs": [],
   "source": []
  }
 ],
 "metadata": {
  "kernelspec": {
   "display_name": "Python 3",
   "language": "python",
   "name": "python3"
  },
  "language_info": {
   "codemirror_mode": {
    "name": "ipython",
    "version": 3
   },
   "file_extension": ".py",
   "mimetype": "text/x-python",
   "name": "python",
   "nbconvert_exporter": "python",
   "pygments_lexer": "ipython3",
   "version": "3.7.4"
  }
 },
 "nbformat": 4,
 "nbformat_minor": 4
}
