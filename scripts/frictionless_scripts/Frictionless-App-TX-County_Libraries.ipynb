{
 "cells": [
  {
   "cell_type": "code",
   "execution_count": null,
   "metadata": {},
   "outputs": [],
   "source": [
    "#Application of frictionless principles to the relevant datafile\n",
    "#output is JSON file describing the relevant datafile\n",
    "\n",
    "#Please download frictionless at frictionlessdata.io/software/#software-toolkit"
   ]
  },
  {
   "cell_type": "code",
   "execution_count": 1,
   "metadata": {},
   "outputs": [],
   "source": [
    "#import frictionless packages\n",
    "import frictionless\n",
    "from frictionless import describe\n",
    "\n",
    "import pprint\n",
    "pp = pprint.PrettyPrinter(depth=4)"
   ]
  },
  {
   "cell_type": "code",
   "execution_count": 2,
   "metadata": {},
   "outputs": [
    {
     "name": "stdout",
     "output_type": "stream",
     "text": [
      "{'encoding': 'utf-8',\n",
      " 'format': 'csv',\n",
      " 'hashing': 'md5',\n",
      " 'name': 'tx-county_libraries',\n",
      " 'path': 'https://raw.githubusercontent.com/unt-libraries/portal-leading/main/data/TX_Libraries/TX-County_Libraries.csv',\n",
      " 'profile': 'tabular-data-resource',\n",
      " 'schema': {'fields': [{'name': 'County', 'type': 'string'},\n",
      "                       {'name': 'Library Name', 'type': 'string'},\n",
      "                       {'name': 'Population of the Legal Service Area',\n",
      "                        'type': 'string'},\n",
      "                       {'name': 'Legal Establishment', 'type': 'string'},\n",
      "                       {'name': 'Region', 'type': 'string'}]},\n",
      " 'scheme': 'https'}\n"
     ]
    }
   ],
   "source": [
    "#'describe' datasets and print\n",
    "TX_Lib = describe('https://raw.githubusercontent.com/unt-libraries/portal-leading/main/data/TX_Libraries/TX-County_Libraries.csv')\n",
    "\n",
    "pp.pprint(TX_Lib)"
   ]
  },
  {
   "cell_type": "code",
   "execution_count": 4,
   "metadata": {},
   "outputs": [
    {
     "name": "stdout",
     "output_type": "stream",
     "text": [
      "{'encoding': 'utf-8',\n",
      " 'format': 'csv',\n",
      " 'hashing': 'md5',\n",
      " 'name': 'tx-county_libraries',\n",
      " 'path': 'https://raw.githubusercontent.com/unt-libraries/portal-leading/main/data/TX_Libraries/TX-County_Libraries.csv',\n",
      " 'profile': 'tabular-data-resource',\n",
      " 'schema': {'fields': [{'description': 'Texas county name',\n",
      "                        'name': 'County',\n",
      "                        'title': 'County',\n",
      "                        'type': 'string'},\n",
      "                       {'description': 'Name of libraries in Texas',\n",
      "                        'name': 'Library Name',\n",
      "                        'title': 'Library Name',\n",
      "                        'type': 'string'},\n",
      "                       {'description': 'Population of the legal service area '\n",
      "                                       'associated with the relevant library '\n",
      "                                       'and county',\n",
      "                        'name': 'Population of the Legal Service Area',\n",
      "                        'title': 'Population of the Legal Service Area',\n",
      "                        'type': 'string'},\n",
      "                       {'description': 'Legal establishment category (e.g., '\n",
      "                                       'city, county, non-profit)',\n",
      "                        'name': 'Legal Establishment',\n",
      "                        'title': 'Legal Establishment',\n",
      "                        'type': 'string'},\n",
      "                       {'description': 'Texas region relevant to the library '\n",
      "                                       'and county',\n",
      "                        'name': 'Region',\n",
      "                        'title': 'Region',\n",
      "                        'type': 'string'}]},\n",
      " 'scheme': 'https'}\n"
     ]
    }
   ],
   "source": [
    "#applying more detail to each column\n",
    "TX_Lib.schema.get_field(\"County\").title = \"County\"\n",
    "TX_Lib.schema.get_field(\"County\").description = \"Texas county name\"\n",
    "\n",
    "TX_Lib.schema.get_field(\"Library Name\").title = \"Library Name\"\n",
    "TX_Lib.schema.get_field(\"Library Name\").description = \"Name of libraries in Texas\"\n",
    "\n",
    "TX_Lib.schema.get_field(\"Population of the Legal Service Area\").title = \"Population of the Legal Service Area\"\n",
    "TX_Lib.schema.get_field(\"Population of the Legal Service Area\").description = \"Population of the legal service area associated with the relevant library and county\"\n",
    "\n",
    "TX_Lib.schema.get_field(\"Legal Establishment\").title = \"Legal Establishment\"\n",
    "TX_Lib.schema.get_field(\"Legal Establishment\").description = \"Legal establishment category (e.g., city, county, non-profit)\"\n",
    "\n",
    "TX_Lib.schema.get_field(\"Region\").title = \"Region\"\n",
    "TX_Lib.schema.get_field(\"Region\").description = \"Texas region relevant to the library and county\"\n",
    "\n",
    "\n",
    "pp.pprint(TX_Lib)"
   ]
  },
  {
   "cell_type": "code",
   "execution_count": 5,
   "metadata": {},
   "outputs": [
    {
     "name": "stdout",
     "output_type": "stream",
     "text": [
      "{'encoding': 'utf-8',\n",
      " 'format': 'csv',\n",
      " 'hashing': 'md5',\n",
      " 'name': 'tx-county_libraries',\n",
      " 'path': 'https://raw.githubusercontent.com/unt-libraries/portal-leading/main/data/TX_Libraries/TX-County_Libraries.csv',\n",
      " 'profile': 'tabular-data-resource',\n",
      " 'schema': {'fields': [{'description': 'Texas county name',\n",
      "                        'name': 'County',\n",
      "                        'title': 'County',\n",
      "                        'type': 'string'},\n",
      "                       {'description': 'Name of libraries in Texas',\n",
      "                        'name': 'Library Name',\n",
      "                        'title': 'Library Name',\n",
      "                        'type': 'string'},\n",
      "                       {'description': 'Population of the legal service area '\n",
      "                                       'associated with the relevant library '\n",
      "                                       'and county',\n",
      "                        'name': 'Population of the Legal Service Area',\n",
      "                        'title': 'Population of the Legal Service Area',\n",
      "                        'type': 'string'},\n",
      "                       {'description': 'Legal establishment category (e.g., '\n",
      "                                       'city, county, non-profit)',\n",
      "                        'name': 'Legal Establishment',\n",
      "                        'title': 'Legal Establishment',\n",
      "                        'type': 'string'},\n",
      "                       {'description': 'Texas region relevant to the library '\n",
      "                                       'and county',\n",
      "                        'name': 'Region',\n",
      "                        'title': 'Region',\n",
      "                        'type': 'string'}],\n",
      "            'missingValues': ['']},\n",
      " 'scheme': 'https'}\n"
     ]
    }
   ],
   "source": [
    "#handling missing values\n",
    "TX_Lib.schema.missing_values = [\"\"]\n",
    "pp.pprint(TX_Lib)"
   ]
  },
  {
   "cell_type": "code",
   "execution_count": 6,
   "metadata": {},
   "outputs": [
    {
     "name": "stdout",
     "output_type": "stream",
     "text": [
      "{'encoding': 'utf-8',\n",
      " 'format': 'csv',\n",
      " 'hashing': 'md5',\n",
      " 'name': 'tx-county_libraries',\n",
      " 'path': 'https://raw.githubusercontent.com/unt-libraries/portal-leading/main/data/TX_Libraries/TX-County_Libraries.csv',\n",
      " 'profile': 'tabular-data-resource',\n",
      " 'schema': {'fields': [{'description': 'Texas county name',\n",
      "                        'name': 'County',\n",
      "                        'title': 'County',\n",
      "                        'type': 'string'},\n",
      "                       {'description': 'Name of libraries in Texas',\n",
      "                        'name': 'Library Name',\n",
      "                        'title': 'Library Name',\n",
      "                        'type': 'string'},\n",
      "                       {'description': 'Population of the legal service area '\n",
      "                                       'associated with the relevant library '\n",
      "                                       'and county',\n",
      "                        'name': 'Population of the Legal Service Area',\n",
      "                        'title': 'Population of the Legal Service Area',\n",
      "                        'type': 'string'},\n",
      "                       {'constraints': {...},\n",
      "                        'description': 'Legal establishment category (e.g., '\n",
      "                                       'city, county, non-profit)',\n",
      "                        'name': 'Legal Establishment',\n",
      "                        'title': 'Legal Establishment',\n",
      "                        'type': 'string'},\n",
      "                       {'constraints': {...},\n",
      "                        'description': 'Texas region relevant to the library '\n",
      "                                       'and county',\n",
      "                        'name': 'Region',\n",
      "                        'title': 'Region',\n",
      "                        'type': 'string'}],\n",
      "            'missingValues': ['']},\n",
      " 'scheme': 'https'}\n"
     ]
    }
   ],
   "source": [
    "#apply constraint field descriptors to the tables\n",
    "TX_Lib.schema.get_field(\"Legal Establishment\").constraints[\"enum\"] = ['Non-Profit', 'City', 'County', 'Library District', 'City-County', 'Multi-jurisdictional', 'Non-profit', 'Other']\n",
    "TX_Lib.schema.get_field(\"Region\").constraints[\"enum\"] = ['Alamo Area Region', 'Big Country Region', 'Central Texas Region', 'Houston Area Region', 'North Texas Region', 'Northeast Texas Region', 'South Texas Region', 'Texas Panhandle Region', 'Texas Trans-Pecos Region', 'West Texas Region']\n",
    "\n",
    "pp.pprint(TX_Lib)"
   ]
  },
  {
   "cell_type": "code",
   "execution_count": 7,
   "metadata": {},
   "outputs": [
    {
     "name": "stdout",
     "output_type": "stream",
     "text": [
      "{'description': 'This dataset contains the title, population of service area, '\n",
      "                'legal establishment type, county, and region of libraries in '\n",
      "                'Texas',\n",
      " 'encoding': 'utf-8',\n",
      " 'format': 'csv',\n",
      " 'hashing': 'md5',\n",
      " 'name': 'tx-county_libraries',\n",
      " 'path': 'https://raw.githubusercontent.com/unt-libraries/portal-leading/main/data/TX_Libraries/TX-County_Libraries.csv',\n",
      " 'profile': 'tabular-data-resource',\n",
      " 'schema': {'fields': [{'description': 'Texas county name',\n",
      "                        'name': 'County',\n",
      "                        'title': 'County',\n",
      "                        'type': 'string'},\n",
      "                       {'description': 'Name of libraries in Texas',\n",
      "                        'name': 'Library Name',\n",
      "                        'title': 'Library Name',\n",
      "                        'type': 'string'},\n",
      "                       {'description': 'Population of the legal service area '\n",
      "                                       'associated with the relevant library '\n",
      "                                       'and county',\n",
      "                        'name': 'Population of the Legal Service Area',\n",
      "                        'title': 'Population of the Legal Service Area',\n",
      "                        'type': 'string'},\n",
      "                       {'constraints': {...},\n",
      "                        'description': 'Legal establishment category (e.g., '\n",
      "                                       'city, county, non-profit)',\n",
      "                        'name': 'Legal Establishment',\n",
      "                        'title': 'Legal Establishment',\n",
      "                        'type': 'string'},\n",
      "                       {'constraints': {...},\n",
      "                        'description': 'Texas region relevant to the library '\n",
      "                                       'and county',\n",
      "                        'name': 'Region',\n",
      "                        'title': 'Region',\n",
      "                        'type': 'string'}],\n",
      "            'missingValues': ['']},\n",
      " 'scheme': 'https'}\n"
     ]
    }
   ],
   "source": [
    "#add table description\n",
    "TX_Lib.description = \"This dataset contains the title, population of service area, legal establishment type, county, and region of libraries in Texas\"\n",
    "pp.pprint(TX_Lib)"
   ]
  },
  {
   "cell_type": "code",
   "execution_count": 8,
   "metadata": {},
   "outputs": [
    {
     "data": {
      "text/plain": [
       "'{\\n  \"path\": \"https://raw.githubusercontent.com/unt-libraries/portal-leading/main/data/TX_Libraries/TX-County_Libraries.csv\",\\n  \"name\": \"tx-county_libraries\",\\n  \"profile\": \"tabular-data-resource\",\\n  \"scheme\": \"https\",\\n  \"format\": \"csv\",\\n  \"hashing\": \"md5\",\\n  \"encoding\": \"utf-8\",\\n  \"schema\": {\\n    \"fields\": [\\n      {\\n        \"name\": \"County\",\\n        \"type\": \"string\",\\n        \"title\": \"County\",\\n        \"description\": \"Texas county name\"\\n      },\\n      {\\n        \"name\": \"Library Name\",\\n        \"type\": \"string\",\\n        \"title\": \"Library Name\",\\n        \"description\": \"Name of libraries in Texas\"\\n      },\\n      {\\n        \"name\": \"Population of the Legal Service Area\",\\n        \"type\": \"string\",\\n        \"title\": \"Population of the Legal Service Area\",\\n        \"description\": \"Population of the legal service area associated with the relevant library and county\"\\n      },\\n      {\\n        \"name\": \"Legal Establishment\",\\n        \"type\": \"string\",\\n        \"title\": \"Legal Establishment\",\\n        \"description\": \"Legal establishment category (e.g., city, county, non-profit)\",\\n        \"constraints\": {\\n          \"enum\": [\\n            \"Non-Profit\",\\n            \"City\",\\n            \"County\",\\n            \"Library District\",\\n            \"City-County\",\\n            \"Multi-jurisdictional\",\\n            \"Non-profit\",\\n            \"Other\"\\n          ]\\n        }\\n      },\\n      {\\n        \"name\": \"Region\",\\n        \"type\": \"string\",\\n        \"title\": \"Region\",\\n        \"description\": \"Texas region relevant to the library and county\",\\n        \"constraints\": {\\n          \"enum\": [\\n            \"Alamo Area Region\",\\n            \"Big Country Region\",\\n            \"Central Texas Region\",\\n            \"Houston Area Region\",\\n            \"North Texas Region\",\\n            \"Northeast Texas Region\",\\n            \"South Texas Region\",\\n            \"Texas Panhandle Region\",\\n            \"Texas Trans-Pecos Region\",\\n            \"West Texas Region\"\\n          ]\\n        }\\n      }\\n    ],\\n    \"missingValues\": [\\n      \"\"\\n    ]\\n  },\\n  \"description\": \"This dataset contains the title, population of service area, legal establishment type, county, and region of libraries in Texas\"\\n}'"
      ]
     },
     "execution_count": 8,
     "metadata": {},
     "output_type": "execute_result"
    }
   ],
   "source": [
    "#print JSON file\n",
    "TX_Lib.to_json(\"tableschema.json\")"
   ]
  },
  {
   "cell_type": "code",
   "execution_count": 25,
   "metadata": {},
   "outputs": [
    {
     "name": "stdout",
     "output_type": "stream",
     "text": [
      " Volume in drive C has no label.\n",
      " Volume Serial Number is 3A43-426E\n",
      "\n",
      " Directory of C:\\Users\\Dream Machine\\Desktop\\LEADING20211018\\TX_Digital-Newspaper-Program_Issues\n",
      "\n",
      "11/03/2021  06:37 PM    <DIR>          .\n",
      "11/03/2021  06:37 PM    <DIR>          ..\n",
      "11/03/2021  06:26 PM    <DIR>          .ipynb_checkpoints\n",
      "11/03/2021  06:37 PM            20,942 Frictionless-App-Script_TX-Digital-Newspaper-Program_Issues.ipynb\n",
      "11/03/2021  06:38 PM             1,879 tableschema.json\n",
      "               2 File(s)         22,821 bytes\n",
      "               3 Dir(s)  50,568,605,696 bytes free\n"
     ]
    }
   ],
   "source": [
    "ls"
   ]
  },
  {
   "cell_type": "code",
   "execution_count": null,
   "metadata": {},
   "outputs": [],
   "source": []
  }
 ],
 "metadata": {
  "kernelspec": {
   "display_name": "Python 3",
   "language": "python",
   "name": "python3"
  },
  "language_info": {
   "codemirror_mode": {
    "name": "ipython",
    "version": 3
   },
   "file_extension": ".py",
   "mimetype": "text/x-python",
   "name": "python",
   "nbconvert_exporter": "python",
   "pygments_lexer": "ipython3",
   "version": "3.7.4"
  }
 },
 "nbformat": 4,
 "nbformat_minor": 4
}
