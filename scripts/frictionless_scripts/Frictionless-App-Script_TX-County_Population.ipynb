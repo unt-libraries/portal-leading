{
 "cells": [
  {
   "cell_type": "code",
   "execution_count": null,
   "metadata": {},
   "outputs": [],
   "source": [
    "#Application of frictionless principles to the relevant datafile\n",
    "#output is JSON file describing the relevant datafile\n",
    "\n",
    "#Please download frictionless at frictionlessdata.io/software/#software-toolkit"
   ]
  },
  {
   "cell_type": "code",
   "execution_count": 2,
   "metadata": {},
   "outputs": [],
   "source": [
    "#import frictionless packages\n",
    "import frictionless\n",
    "from frictionless import describe\n",
    "\n",
    "import pprint\n",
    "pp = pprint.PrettyPrinter(depth=4)"
   ]
  },
  {
   "cell_type": "code",
   "execution_count": 5,
   "metadata": {},
   "outputs": [
    {
     "name": "stdout",
     "output_type": "stream",
     "text": [
      "{'encoding': 'utf-8',\n",
      " 'format': 'csv',\n",
      " 'hashing': 'md5',\n",
      " 'name': 'tx-county_population',\n",
      " 'path': 'https://raw.githubusercontent.com/unt-libraries/portal-leading/main/data/TX-County_Population/TX-County_Population.csv',\n",
      " 'profile': 'tabular-data-resource',\n",
      " 'schema': {'fields': [{'name': 'County', 'type': 'string'},\n",
      "                       {'name': 'Year', 'type': 'integer'},\n",
      "                       {'name': 'Population', 'type': 'string'}]},\n",
      " 'scheme': 'https'}\n"
     ]
    }
   ],
   "source": [
    "#'describe' datasets and print\n",
    "TX_Pop = describe('https://raw.githubusercontent.com/unt-libraries/portal-leading/main/data/TX-County_Population/TX-County_Population.csv')\n",
    "\n",
    "pp.pprint(TX_Pop)"
   ]
  },
  {
   "cell_type": "code",
   "execution_count": 6,
   "metadata": {},
   "outputs": [
    {
     "name": "stdout",
     "output_type": "stream",
     "text": [
      "{'encoding': 'utf-8',\n",
      " 'format': 'csv',\n",
      " 'hashing': 'md5',\n",
      " 'name': 'tx-county_population',\n",
      " 'path': 'https://raw.githubusercontent.com/unt-libraries/portal-leading/main/data/TX-County_Population/TX-County_Population.csv',\n",
      " 'profile': 'tabular-data-resource',\n",
      " 'schema': {'fields': [{'description': 'Texas county name',\n",
      "                        'name': 'County',\n",
      "                        'title': 'County',\n",
      "                        'type': 'string'},\n",
      "                       {'description': 'Year',\n",
      "                        'name': 'Year',\n",
      "                        'title': 'Year',\n",
      "                        'type': 'integer'},\n",
      "                       {'name': 'Population', 'type': 'string'}]},\n",
      " 'scheme': 'https'}\n"
     ]
    }
   ],
   "source": [
    "#applying more detail to each column\n",
    "TX_Pop.schema.get_field(\"County\").title = \"County\"\n",
    "TX_Pop.schema.get_field(\"County\").description = \"Texas county name\"\n",
    "\n",
    "TX_Pop.schema.get_field(\"Year\").title = \"Year\"\n",
    "TX_Pop.schema.get_field(\"Year\").description = \"Year\"\n",
    "\n",
    "pp.pprint(TX_Pop)"
   ]
  },
  {
   "cell_type": "code",
   "execution_count": 7,
   "metadata": {},
   "outputs": [
    {
     "name": "stdout",
     "output_type": "stream",
     "text": [
      "{'encoding': 'utf-8',\n",
      " 'format': 'csv',\n",
      " 'hashing': 'md5',\n",
      " 'name': 'tx-county_population',\n",
      " 'path': 'https://raw.githubusercontent.com/unt-libraries/portal-leading/main/data/TX-County_Population/TX-County_Population.csv',\n",
      " 'profile': 'tabular-data-resource',\n",
      " 'schema': {'fields': [{'description': 'Texas county name',\n",
      "                        'name': 'County',\n",
      "                        'title': 'County',\n",
      "                        'type': 'string'},\n",
      "                       {'description': 'Year',\n",
      "                        'name': 'Year',\n",
      "                        'title': 'Year',\n",
      "                        'type': 'integer'},\n",
      "                       {'name': 'Population', 'type': 'string'}],\n",
      "            'missingValues': ['']},\n",
      " 'scheme': 'https'}\n"
     ]
    }
   ],
   "source": [
    "#handling missing values\n",
    "TX_Pop.schema.missing_values = [\"\"]\n",
    "pp.pprint(TX_Pop)"
   ]
  },
  {
   "cell_type": "code",
   "execution_count": 8,
   "metadata": {},
   "outputs": [
    {
     "name": "stdout",
     "output_type": "stream",
     "text": [
      "{'description': 'This dataset contains the populations of each TX county '\n",
      "                'during specific timepoints by year',\n",
      " 'encoding': 'utf-8',\n",
      " 'format': 'csv',\n",
      " 'hashing': 'md5',\n",
      " 'name': 'tx-county_population',\n",
      " 'path': 'https://raw.githubusercontent.com/unt-libraries/portal-leading/main/data/TX-County_Population/TX-County_Population.csv',\n",
      " 'profile': 'tabular-data-resource',\n",
      " 'schema': {'fields': [{'description': 'Texas county name',\n",
      "                        'name': 'County',\n",
      "                        'title': 'County',\n",
      "                        'type': 'string'},\n",
      "                       {'description': 'Year',\n",
      "                        'name': 'Year',\n",
      "                        'title': 'Year',\n",
      "                        'type': 'integer'},\n",
      "                       {'name': 'Population', 'type': 'string'}],\n",
      "            'missingValues': ['']},\n",
      " 'scheme': 'https'}\n"
     ]
    }
   ],
   "source": [
    "#add table description\n",
    "TX_Pop.description = \"This dataset contains the populations of each TX county during specific timepoints by year\"\n",
    "pp.pprint(TX_Pop)"
   ]
  },
  {
   "cell_type": "code",
   "execution_count": 9,
   "metadata": {},
   "outputs": [
    {
     "data": {
      "text/plain": [
       "'{\\n  \"path\": \"https://raw.githubusercontent.com/unt-libraries/portal-leading/main/data/TX-County_Population/TX-County_Population.csv\",\\n  \"name\": \"tx-county_population\",\\n  \"profile\": \"tabular-data-resource\",\\n  \"scheme\": \"https\",\\n  \"format\": \"csv\",\\n  \"hashing\": \"md5\",\\n  \"encoding\": \"utf-8\",\\n  \"schema\": {\\n    \"fields\": [\\n      {\\n        \"name\": \"County\",\\n        \"type\": \"string\",\\n        \"title\": \"County\",\\n        \"description\": \"Texas county name\"\\n      },\\n      {\\n        \"name\": \"Year\",\\n        \"type\": \"integer\",\\n        \"title\": \"Year\",\\n        \"description\": \"Year\"\\n      },\\n      {\\n        \"name\": \"Population\",\\n        \"type\": \"string\"\\n      }\\n    ],\\n    \"missingValues\": [\\n      \"\"\\n    ]\\n  },\\n  \"description\": \"This dataset contains the populations of each TX county during specific timepoints by year\"\\n}'"
      ]
     },
     "execution_count": 9,
     "metadata": {},
     "output_type": "execute_result"
    }
   ],
   "source": [
    "#print JSON file\n",
    "TX_Pop.to_json(\"tableschema.json\")"
   ]
  },
  {
   "cell_type": "code",
   "execution_count": 37,
   "metadata": {},
   "outputs": [
    {
     "name": "stdout",
     "output_type": "stream",
     "text": [
      " Volume in drive C has no label.\n",
      " Volume Serial Number is 3A43-426E\n",
      "\n",
      " Directory of C:\\Users\\Dream Machine\n",
      "\n",
      "10/18/2021  09:33 PM    <DIR>          .\n",
      "10/18/2021  09:33 PM    <DIR>          ..\n",
      "02/16/2020  06:16 PM    <DIR>          .anaconda\n",
      "07/18/2021  02:01 PM    <DIR>          .atom\n",
      "05/25/2021  05:27 PM    <DIR>          .conda\n",
      "10/17/2021  10:42 PM                60 .condarc\n",
      "02/16/2020  06:16 PM    <DIR>          .config\n",
      "09/02/2021  10:07 PM               177 .gitconfig\n",
      "12/13/2019  10:57 AM    <DIR>          .idlerc\n",
      "10/18/2021  11:12 AM    <DIR>          .ipynb_checkpoints\n",
      "02/16/2020  06:16 PM    <DIR>          .ipython\n",
      "10/18/2021  11:03 AM    <DIR>          .jupyter\n",
      "10/18/2021  07:45 PM    <DIR>          .librarymanager\n",
      "02/16/2020  06:16 PM    <DIR>          .matplotlib\n",
      "05/18/2019  10:54 AM    <DIR>          .Origin\n",
      "10/17/2021  08:48 PM    <DIR>          .PyCharmCE2019.3\n",
      "05/18/2019  10:54 AM    <DIR>          .QtWebEngineProcess\n",
      "02/19/2020  09:40 PM    <DIR>          .spyder-py3\n",
      "02/09/2020  05:29 PM    <DIR>          .thumbnails\n",
      "08/18/2021  09:01 PM    <DIR>          .Waves Central\n",
      "05/31/2020  10:17 PM    <DIR>          3D Objects\n",
      "10/17/2021  09:42 PM    <DIR>          Anaconda3\n",
      "05/31/2020  10:17 PM    <DIR>          Contacts\n",
      "10/18/2021  07:28 PM    <DIR>          Desktop\n",
      "10/02/2021  01:30 PM    <DIR>          Documents\n",
      "09/25/2021  11:16 AM    <DIR>          Downloads\n",
      "05/31/2020  10:17 PM    <DIR>          Favorites\n",
      "10/18/2021  09:32 PM            25,258 Frictionless-App-Script_TX-County-IDs.ipynb\n",
      "05/31/2020  10:17 PM    <DIR>          Links\n",
      "05/31/2020  10:17 PM    <DIR>          Music\n",
      "10/18/2021  09:33 PM             3,022 NP_Titles.json\n",
      "08/08/2021  05:41 PM    <DIR>          OneDrive\n",
      "08/30/2021  06:45 PM             1,305 Origin.sln\n",
      "09/02/2021  01:23 PM    <DIR>          Pictures\n",
      "10/17/2021  09:36 PM    <DIR>          PycharmProjects\n",
      "02/18/2020  07:58 PM    <DIR>          Python Practice_cc\n",
      "02/19/2021  08:46 PM    <DIR>          Saved Games\n",
      "05/31/2020  10:17 PM    <DIR>          Searches\n",
      "02/25/2020  07:55 PM    <DIR>          source\n",
      "10/18/2021  09:32 PM             2,359 TX_CountyIDs.json\n",
      "10/17/2021  02:11 PM                72 Untitled.ipynb\n",
      "05/31/2020  10:17 PM    <DIR>          Videos\n",
      "08/08/2020  02:03 PM    <DIR>          Zotero\n",
      "               7 File(s)         32,253 bytes\n",
      "              36 Dir(s)  92,436,987,904 bytes free\n"
     ]
    }
   ],
   "source": [
    "ls"
   ]
  },
  {
   "cell_type": "code",
   "execution_count": null,
   "metadata": {},
   "outputs": [],
   "source": []
  }
 ],
 "metadata": {
  "kernelspec": {
   "display_name": "Python 3",
   "language": "python",
   "name": "python3"
  },
  "language_info": {
   "codemirror_mode": {
    "name": "ipython",
    "version": 3
   },
   "file_extension": ".py",
   "mimetype": "text/x-python",
   "name": "python",
   "nbconvert_exporter": "python",
   "pygments_lexer": "ipython3",
   "version": "3.7.4"
  }
 },
 "nbformat": 4,
 "nbformat_minor": 4
}
